{
 "cells": [
  {
   "cell_type": "code",
   "execution_count": 2,
   "id": "83097b47",
   "metadata": {},
   "outputs": [
    {
     "data": {
      "text/plain": [
       "2"
      ]
     },
     "execution_count": 2,
     "metadata": {},
     "output_type": "execute_result"
    }
   ],
   "source": [
    "1+1"
   ]
  },
  {
   "cell_type": "code",
   "execution_count": 3,
   "id": "dd935e6d",
   "metadata": {},
   "outputs": [
    {
     "data": {
      "text/plain": [
       "float"
      ]
     },
     "execution_count": 3,
     "metadata": {},
     "output_type": "execute_result"
    }
   ],
   "source": [
    "a = 20.32\n",
    "type(a)"
   ]
  },
  {
   "cell_type": "code",
   "execution_count": 5,
   "id": "fc4f7549",
   "metadata": {},
   "outputs": [
    {
     "data": {
      "text/plain": [
       "complex"
      ]
     },
     "execution_count": 5,
     "metadata": {},
     "output_type": "execute_result"
    }
   ],
   "source": [
    "b = complex(23, 40)\n",
    "type(b)"
   ]
  },
  {
   "cell_type": "code",
   "execution_count": 6,
   "id": "0321bbef",
   "metadata": {},
   "outputs": [],
   "source": [
    "c = \"Rahul\""
   ]
  },
  {
   "cell_type": "code",
   "execution_count": 7,
   "id": "fcf2247d",
   "metadata": {},
   "outputs": [
    {
     "data": {
      "text/plain": [
       "str"
      ]
     },
     "execution_count": 7,
     "metadata": {},
     "output_type": "execute_result"
    }
   ],
   "source": [
    "type(c)"
   ]
  },
  {
   "cell_type": "code",
   "execution_count": 8,
   "id": "22b71466",
   "metadata": {},
   "outputs": [
    {
     "data": {
      "text/plain": [
       "str"
      ]
     },
     "execution_count": 8,
     "metadata": {},
     "output_type": "execute_result"
    }
   ],
   "source": [
    "d = 'There is a class.'\n",
    "type(d)"
   ]
  },
  {
   "cell_type": "code",
   "execution_count": 17,
   "id": "97a4ce57",
   "metadata": {},
   "outputs": [
    {
     "data": {
      "text/plain": [
       "bool"
      ]
     },
     "execution_count": 17,
     "metadata": {},
     "output_type": "execute_result"
    }
   ],
   "source": [
    "n = True\n",
    "type(n)"
   ]
  },
  {
   "cell_type": "code",
   "execution_count": 18,
   "id": "a7ccfb55",
   "metadata": {},
   "outputs": [
    {
     "data": {
      "text/plain": [
       "bool"
      ]
     },
     "execution_count": 18,
     "metadata": {},
     "output_type": "execute_result"
    }
   ],
   "source": [
    "m = False\n",
    "type(m)"
   ]
  },
  {
   "cell_type": "code",
   "execution_count": 19,
   "id": "9aeb3965",
   "metadata": {},
   "outputs": [
    {
     "data": {
      "text/plain": [
       "1"
      ]
     },
     "execution_count": 19,
     "metadata": {},
     "output_type": "execute_result"
    }
   ],
   "source": [
    "n + m"
   ]
  },
  {
   "cell_type": "code",
   "execution_count": 20,
   "id": "c9029599",
   "metadata": {},
   "outputs": [
    {
     "data": {
      "text/plain": [
       "0"
      ]
     },
     "execution_count": 20,
     "metadata": {},
     "output_type": "execute_result"
    }
   ],
   "source": [
    "n * m"
   ]
  },
  {
   "cell_type": "code",
   "execution_count": 21,
   "id": "b7a93c9f",
   "metadata": {},
   "outputs": [
    {
     "ename": "ZeroDivisionError",
     "evalue": "division by zero",
     "output_type": "error",
     "traceback": [
      "\u001b[1;31m---------------------------------------------------------------------------\u001b[0m",
      "\u001b[1;31mZeroDivisionError\u001b[0m                         Traceback (most recent call last)",
      "\u001b[1;32m~\\AppData\\Local\\Temp\\ipykernel_11532\\299746778.py\u001b[0m in \u001b[0;36m<module>\u001b[1;34m\u001b[0m\n\u001b[1;32m----> 1\u001b[1;33m \u001b[0mn\u001b[0m \u001b[1;33m/\u001b[0m \u001b[0mm\u001b[0m\u001b[1;33m\u001b[0m\u001b[1;33m\u001b[0m\u001b[0m\n\u001b[0m",
      "\u001b[1;31mZeroDivisionError\u001b[0m: division by zero"
     ]
    }
   ],
   "source": [
    "n / m"
   ]
  },
  {
   "cell_type": "code",
   "execution_count": 23,
   "id": "37b91192",
   "metadata": {
    "scrolled": true
   },
   "outputs": [
    {
     "ename": "ZeroDivisionError",
     "evalue": "division by zero",
     "output_type": "error",
     "traceback": [
      "\u001b[1;31m---------------------------------------------------------------------------\u001b[0m",
      "\u001b[1;31mZeroDivisionError\u001b[0m                         Traceback (most recent call last)",
      "\u001b[1;32m~\\AppData\\Local\\Temp\\ipykernel_11532\\3261138154.py\u001b[0m in \u001b[0;36m<module>\u001b[1;34m\u001b[0m\n\u001b[0;32m      1\u001b[0m \u001b[1;32mimport\u001b[0m \u001b[0mnumpy\u001b[0m \u001b[1;32mas\u001b[0m \u001b[0mnp\u001b[0m\u001b[1;33m\u001b[0m\u001b[1;33m\u001b[0m\u001b[0m\n\u001b[1;32m----> 2\u001b[1;33m \u001b[1;36m1\u001b[0m \u001b[1;33m/\u001b[0m \u001b[1;36m0\u001b[0m\u001b[1;33m\u001b[0m\u001b[1;33m\u001b[0m\u001b[0m\n\u001b[0m",
      "\u001b[1;31mZeroDivisionError\u001b[0m: division by zero"
     ]
    }
   ],
   "source": [
    "import numpy as np\n",
    "1 / 0"
   ]
  },
  {
   "cell_type": "code",
   "execution_count": 25,
   "id": "5e71b421",
   "metadata": {},
   "outputs": [
    {
     "name": "stdout",
     "output_type": "stream",
     "text": [
      "<class 'complex'>\n",
      "5.0\n",
      "6.0\n"
     ]
    }
   ],
   "source": [
    "e = 5 + 6j\n",
    "print(type(e))\n",
    "print(e.real)\n",
    "print(e.imag)"
   ]
  },
  {
   "cell_type": "code",
   "execution_count": 26,
   "id": "9455d169",
   "metadata": {},
   "outputs": [
    {
     "name": "stdout",
     "output_type": "stream",
     "text": [
      "My name is Rahul.\n"
     ]
    }
   ],
   "source": [
    "print(\"My name is Rahul.\")"
   ]
  },
  {
   "cell_type": "code",
   "execution_count": 37,
   "id": "b6f8e258",
   "metadata": {},
   "outputs": [
    {
     "name": "stdout",
     "output_type": "stream",
     "text": [
      "w\n",
      "pwskills\n",
      "pws\n",
      "ws\n",
      "psi\n",
      "pwskill\n",
      "pws\n",
      "sllikswp\n",
      "s\n"
     ]
    }
   ],
   "source": [
    "s = \"pwskills\"\n",
    "print(s[1])\n",
    "print(s[:])\n",
    "print(s[:3])\n",
    "print(s[1:3])\n",
    "print(s[:6:2])\n",
    "print(s[:-1])\n",
    "print(s[:-5])\n",
    "print(s[::-1])\n",
    "print(s[:-2:-1])"
   ]
  },
  {
   "cell_type": "code",
   "execution_count": 38,
   "id": "02f94329",
   "metadata": {},
   "outputs": [
    {
     "name": "stdout",
     "output_type": "stream",
     "text": [
      "pwsk\n"
     ]
    }
   ],
   "source": [
    "print(s[0:4])"
   ]
  },
  {
   "cell_type": "code",
   "execution_count": 39,
   "id": "e33d69d0",
   "metadata": {},
   "outputs": [
    {
     "name": "stdout",
     "output_type": "stream",
     "text": [
      "psil\n"
     ]
    }
   ],
   "source": [
    "print(s[::2])"
   ]
  },
  {
   "cell_type": "code",
   "execution_count": 40,
   "id": "c0f630ad",
   "metadata": {},
   "outputs": [
    {
     "name": "stdout",
     "output_type": "stream",
     "text": [
      "wkls\n"
     ]
    }
   ],
   "source": [
    "print(s[1::2])"
   ]
  },
  {
   "cell_type": "code",
   "execution_count": 43,
   "id": "692709b8",
   "metadata": {},
   "outputs": [
    {
     "name": "stdout",
     "output_type": "stream",
     "text": [
      "s\n",
      "sllikswp\n",
      "slkw\n"
     ]
    }
   ],
   "source": [
    "print(s[-1])\n",
    "print(s[::-1])\n",
    "print(s[::-2])"
   ]
  },
  {
   "cell_type": "code",
   "execution_count": 52,
   "id": "ea285763",
   "metadata": {},
   "outputs": [
    {
     "name": "stdout",
     "output_type": "stream",
     "text": [
      "\n",
      "Here, Conflict arises, Hence we will get Blank answer.\n",
      "DIrection of jump is left side and Direction of flow is right Side.\n"
     ]
    }
   ],
   "source": [
    "print(s[2:7:-1])\n",
    "print(\"Here, Conflict arises, Hence we will get Blank answer.\")\n",
    "print(\"DIrection of jump is left side and Direction of flow is right Side.\")"
   ]
  },
  {
   "cell_type": "code",
   "execution_count": 55,
   "id": "c412089c",
   "metadata": {},
   "outputs": [
    {
     "name": "stdout",
     "output_type": "stream",
     "text": [
      "slliksw\n",
      "sllikswp\n",
      "\n"
     ]
    }
   ],
   "source": [
    "print(s[8:0:-1])\n",
    "print(s[8::-1])\n",
    "print(s[8:-1:-1])"
   ]
  },
  {
   "cell_type": "code",
   "execution_count": 53,
   "id": "28d6f5d6",
   "metadata": {},
   "outputs": [
    {
     "name": "stdout",
     "output_type": "stream",
     "text": [
      "\n",
      "Here, Conflict arises, Hence we will get Blank answer.\n",
      "DIrection of jump is right side and Direction of flow is left Side.\n"
     ]
    }
   ],
   "source": [
    "print(s[8:0])\n",
    "print(\"Here, Conflict arises, Hence we will get Blank answer.\")\n",
    "print(\"DIrection of jump is right side and Direction of flow is left Side.\")"
   ]
  },
  {
   "cell_type": "code",
   "execution_count": 56,
   "id": "d7d112ad",
   "metadata": {},
   "outputs": [
    {
     "name": "stdout",
     "output_type": "stream",
     "text": [
      "llikswp\n"
     ]
    }
   ],
   "source": [
    "print(s[-2::-1])"
   ]
  },
  {
   "cell_type": "code",
   "execution_count": 57,
   "id": "b013fac5",
   "metadata": {},
   "outputs": [
    {
     "name": "stdout",
     "output_type": "stream",
     "text": [
      "lliksw\n"
     ]
    }
   ],
   "source": [
    "print(s[-2:-8:-1])"
   ]
  },
  {
   "cell_type": "code",
   "execution_count": 58,
   "id": "69d76a00",
   "metadata": {},
   "outputs": [
    {
     "name": "stdout",
     "output_type": "stream",
     "text": [
      "slliksw\n"
     ]
    }
   ],
   "source": [
    "print(s[:-8:-1])"
   ]
  },
  {
   "cell_type": "code",
   "execution_count": 59,
   "id": "288b92bd",
   "metadata": {},
   "outputs": [
    {
     "ename": "IndexError",
     "evalue": "string index out of range",
     "output_type": "error",
     "traceback": [
      "\u001b[1;31m---------------------------------------------------------------------------\u001b[0m",
      "\u001b[1;31mIndexError\u001b[0m                                Traceback (most recent call last)",
      "\u001b[1;32m~\\AppData\\Local\\Temp\\ipykernel_11532\\3290760013.py\u001b[0m in \u001b[0;36m<module>\u001b[1;34m\u001b[0m\n\u001b[1;32m----> 1\u001b[1;33m \u001b[0ms\u001b[0m\u001b[1;33m[\u001b[0m\u001b[1;36m90\u001b[0m\u001b[1;33m]\u001b[0m\u001b[1;33m\u001b[0m\u001b[1;33m\u001b[0m\u001b[0m\n\u001b[0m",
      "\u001b[1;31mIndexError\u001b[0m: string index out of range"
     ]
    }
   ],
   "source": [
    "s[90]"
   ]
  },
  {
   "cell_type": "code",
   "execution_count": 60,
   "id": "e5f6eda9",
   "metadata": {},
   "outputs": [
    {
     "data": {
      "text/plain": [
       "''"
      ]
     },
     "execution_count": 60,
     "metadata": {},
     "output_type": "execute_result"
    }
   ],
   "source": [
    "s[:-90]"
   ]
  },
  {
   "cell_type": "code",
   "execution_count": 62,
   "id": "613d29ff",
   "metadata": {},
   "outputs": [
    {
     "data": {
      "text/plain": [
       "''"
      ]
     },
     "execution_count": 62,
     "metadata": {},
     "output_type": "execute_result"
    }
   ],
   "source": [
    "s[:-90:]"
   ]
  },
  {
   "cell_type": "code",
   "execution_count": 63,
   "id": "abccec40",
   "metadata": {},
   "outputs": [
    {
     "data": {
      "text/plain": [
       "'sllikswp'"
      ]
     },
     "execution_count": 63,
     "metadata": {},
     "output_type": "execute_result"
    }
   ],
   "source": [
    "s[:-90:-1]"
   ]
  },
  {
   "cell_type": "code",
   "execution_count": 64,
   "id": "6fffbc2c",
   "metadata": {},
   "outputs": [
    {
     "ename": "TypeError",
     "evalue": "'int' object is not subscriptable",
     "output_type": "error",
     "traceback": [
      "\u001b[1;31m---------------------------------------------------------------------------\u001b[0m",
      "\u001b[1;31mTypeError\u001b[0m                                 Traceback (most recent call last)",
      "\u001b[1;32m~\\AppData\\Local\\Temp\\ipykernel_11532\\212139529.py\u001b[0m in \u001b[0;36m<module>\u001b[1;34m\u001b[0m\n\u001b[0;32m      1\u001b[0m \u001b[0mcd\u001b[0m \u001b[1;33m=\u001b[0m \u001b[1;36m200\u001b[0m\u001b[1;33m\u001b[0m\u001b[1;33m\u001b[0m\u001b[0m\n\u001b[1;32m----> 2\u001b[1;33m \u001b[0mcd\u001b[0m\u001b[1;33m[\u001b[0m\u001b[1;36m2\u001b[0m\u001b[1;33m]\u001b[0m\u001b[1;33m\u001b[0m\u001b[1;33m\u001b[0m\u001b[0m\n\u001b[0m",
      "\u001b[1;31mTypeError\u001b[0m: 'int' object is not subscriptable"
     ]
    }
   ],
   "source": [
    "cd = 200\n",
    "cd[2]"
   ]
  },
  {
   "cell_type": "code",
   "execution_count": 65,
   "id": "7e9bca67",
   "metadata": {},
   "outputs": [
    {
     "data": {
      "text/plain": [
       "'0'"
      ]
     },
     "execution_count": 65,
     "metadata": {},
     "output_type": "execute_result"
    }
   ],
   "source": [
    "ce = str(cd)\n",
    "ce[2]"
   ]
  },
  {
   "cell_type": "code",
   "execution_count": 68,
   "id": "8c075441",
   "metadata": {},
   "outputs": [
    {
     "name": "stdout",
     "output_type": "stream",
     "text": [
      "23\n"
     ]
    },
    {
     "data": {
      "text/plain": [
       "3"
      ]
     },
     "execution_count": 68,
     "metadata": {},
     "output_type": "execute_result"
    }
   ],
   "source": [
    "s1 = \"This is a string class.\"\n",
    "print(len(s1))\n",
    "s1.find('s')"
   ]
  },
  {
   "cell_type": "code",
   "execution_count": 71,
   "id": "eb3a5cea",
   "metadata": {},
   "outputs": [
    {
     "name": "stdout",
     "output_type": "stream",
     "text": [
      "3\n",
      "17\n",
      "2\n"
     ]
    }
   ],
   "source": [
    "print(s1.find('s'))\n",
    "print(s1.find('c'))\n",
    "print(s1.find('is'))"
   ]
  },
  {
   "cell_type": "code",
   "execution_count": 72,
   "id": "e4fd5f40",
   "metadata": {},
   "outputs": [
    {
     "name": "stdout",
     "output_type": "stream",
     "text": [
      "-1\n"
     ]
    }
   ],
   "source": [
    "print(s1.find('iS'))"
   ]
  },
  {
   "cell_type": "code",
   "execution_count": 73,
   "id": "2a624388",
   "metadata": {},
   "outputs": [
    {
     "name": "stdout",
     "output_type": "stream",
     "text": [
      "5\n"
     ]
    }
   ],
   "source": [
    "print(s1.count('s'))"
   ]
  },
  {
   "cell_type": "code",
   "execution_count": 74,
   "id": "db61fabd",
   "metadata": {},
   "outputs": [
    {
     "name": "stdout",
     "output_type": "stream",
     "text": [
      "0\n"
     ]
    }
   ],
   "source": [
    "print(s1.count('z'))"
   ]
  },
  {
   "cell_type": "code",
   "execution_count": 75,
   "id": "6524c735",
   "metadata": {},
   "outputs": [
    {
     "data": {
      "text/plain": [
       "'this is a string class.'"
      ]
     },
     "execution_count": 75,
     "metadata": {},
     "output_type": "execute_result"
    }
   ],
   "source": [
    "s1.lower()"
   ]
  },
  {
   "cell_type": "code",
   "execution_count": 76,
   "id": "cd996a37",
   "metadata": {},
   "outputs": [
    {
     "data": {
      "text/plain": [
       "'THIS IS A STRING CLASS.'"
      ]
     },
     "execution_count": 76,
     "metadata": {},
     "output_type": "execute_result"
    }
   ],
   "source": [
    "s1.upper()"
   ]
  },
  {
   "cell_type": "code",
   "execution_count": 78,
   "id": "f796ad27",
   "metadata": {},
   "outputs": [
    {
     "name": "stdout",
     "output_type": "stream",
     "text": [
      "This Is A String Class.\n",
      "This is a string class.\n"
     ]
    }
   ],
   "source": [
    "s2 = 'this is a string class.'\n",
    "print(s2.title())\n",
    "print(s2.capitalize())"
   ]
  },
  {
   "cell_type": "code",
   "execution_count": 79,
   "id": "a9f5eae2",
   "metadata": {},
   "outputs": [
    {
     "ename": "TypeError",
     "evalue": "can only concatenate str (not \"int\") to str",
     "output_type": "error",
     "traceback": [
      "\u001b[1;31m---------------------------------------------------------------------------\u001b[0m",
      "\u001b[1;31mTypeError\u001b[0m                                 Traceback (most recent call last)",
      "\u001b[1;32m~\\AppData\\Local\\Temp\\ipykernel_11532\\4005937519.py\u001b[0m in \u001b[0;36m<module>\u001b[1;34m\u001b[0m\n\u001b[1;32m----> 1\u001b[1;33m \u001b[0ms1\u001b[0m \u001b[1;33m+\u001b[0m \u001b[1;36m1\u001b[0m\u001b[1;33m\u001b[0m\u001b[1;33m\u001b[0m\u001b[0m\n\u001b[0m",
      "\u001b[1;31mTypeError\u001b[0m: can only concatenate str (not \"int\") to str"
     ]
    }
   ],
   "source": [
    "s1 + 1"
   ]
  },
  {
   "cell_type": "code",
   "execution_count": 80,
   "id": "6c744404",
   "metadata": {},
   "outputs": [
    {
     "data": {
      "text/plain": [
       "'This is a string class.1'"
      ]
     },
     "execution_count": 80,
     "metadata": {},
     "output_type": "execute_result"
    }
   ],
   "source": [
    "s1 + str(1)"
   ]
  },
  {
   "cell_type": "code",
   "execution_count": 81,
   "id": "be022039",
   "metadata": {},
   "outputs": [
    {
     "data": {
      "text/plain": [
       "'This is a string class. sudo'"
      ]
     },
     "execution_count": 81,
     "metadata": {},
     "output_type": "execute_result"
    }
   ],
   "source": [
    "s1 + ' sudo'"
   ]
  },
  {
   "cell_type": "code",
   "execution_count": 82,
   "id": "f5cff2b4",
   "metadata": {},
   "outputs": [
    {
     "data": {
      "text/plain": [
       "'This is a string class. 3'"
      ]
     },
     "execution_count": 82,
     "metadata": {},
     "output_type": "execute_result"
    }
   ],
   "source": [
    "s1 + ' 3'"
   ]
  },
  {
   "cell_type": "code",
   "execution_count": 83,
   "id": "7f5353ed",
   "metadata": {},
   "outputs": [
    {
     "data": {
      "text/plain": [
       "'This is a string class.This is a string class.This is a string class.'"
      ]
     },
     "execution_count": 83,
     "metadata": {},
     "output_type": "execute_result"
    }
   ],
   "source": [
    "s1 * 3"
   ]
  },
  {
   "cell_type": "code",
   "execution_count": 84,
   "id": "ac3606eb",
   "metadata": {},
   "outputs": [
    {
     "ename": "TypeError",
     "evalue": "unsupported operand type(s) for /: 'str' and 'int'",
     "output_type": "error",
     "traceback": [
      "\u001b[1;31m---------------------------------------------------------------------------\u001b[0m",
      "\u001b[1;31mTypeError\u001b[0m                                 Traceback (most recent call last)",
      "\u001b[1;32m~\\AppData\\Local\\Temp\\ipykernel_11532\\826847083.py\u001b[0m in \u001b[0;36m<module>\u001b[1;34m\u001b[0m\n\u001b[1;32m----> 1\u001b[1;33m \u001b[0ms1\u001b[0m \u001b[1;33m/\u001b[0m \u001b[1;36m4\u001b[0m\u001b[1;33m\u001b[0m\u001b[1;33m\u001b[0m\u001b[0m\n\u001b[0m",
      "\u001b[1;31mTypeError\u001b[0m: unsupported operand type(s) for /: 'str' and 'int'"
     ]
    }
   ],
   "source": [
    "s1 / 4"
   ]
  },
  {
   "cell_type": "code",
   "execution_count": 85,
   "id": "8d543375",
   "metadata": {},
   "outputs": [
    {
     "ename": "SyntaxError",
     "evalue": "invalid syntax (2110019819.py, line 1)",
     "output_type": "error",
     "traceback": [
      "\u001b[1;36m  File \u001b[1;32m\"C:\\Users\\rahul\\AppData\\Local\\Temp\\ipykernel_11532\\2110019819.py\"\u001b[1;36m, line \u001b[1;32m1\u001b[0m\n\u001b[1;33m    'don't do this'\u001b[0m\n\u001b[1;37m         ^\u001b[0m\n\u001b[1;31mSyntaxError\u001b[0m\u001b[1;31m:\u001b[0m invalid syntax\n"
     ]
    }
   ],
   "source": [
    "'don't do this'"
   ]
  },
  {
   "cell_type": "code",
   "execution_count": 86,
   "id": "50180cc3",
   "metadata": {},
   "outputs": [
    {
     "data": {
      "text/plain": [
       "\"don't do this\""
      ]
     },
     "execution_count": 86,
     "metadata": {},
     "output_type": "execute_result"
    }
   ],
   "source": [
    "\"don't do this\""
   ]
  },
  {
   "cell_type": "code",
   "execution_count": 89,
   "id": "4f6229eb",
   "metadata": {},
   "outputs": [
    {
     "data": {
      "text/plain": [
       "'Hello, Once upon a time, there was a lion.\\nHe was the king of the jungle.\\nHe was very kind.'"
      ]
     },
     "execution_count": 89,
     "metadata": {},
     "output_type": "execute_result"
    }
   ],
   "source": [
    "'''Hello, Once upon a time, there was a lion.\n",
    "He was the king of the jungle.\n",
    "He was very kind.'''"
   ]
  },
  {
   "cell_type": "code",
   "execution_count": null,
   "id": "8c5b457d",
   "metadata": {},
   "outputs": [],
   "source": [
    "# Hello, Once upon a time, there was a lion.\n",
    "# He was the king of the jungle.\n",
    "# He was very kind."
   ]
  }
 ],
 "metadata": {
  "kernelspec": {
   "display_name": "Python 3 (ipykernel)",
   "language": "python",
   "name": "python3"
  },
  "language_info": {
   "codemirror_mode": {
    "name": "ipython",
    "version": 3
   },
   "file_extension": ".py",
   "mimetype": "text/x-python",
   "name": "python",
   "nbconvert_exporter": "python",
   "pygments_lexer": "ipython3",
   "version": "3.9.13"
  }
 },
 "nbformat": 4,
 "nbformat_minor": 5
}
